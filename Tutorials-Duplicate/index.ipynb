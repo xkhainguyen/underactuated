{
 "cells": [
  {
   "cell_type": "markdown",
   "source": "# Drake Tutorials\n\nWe have chosen to host all of our tutorials in Python/Jupyter notebooks, but the `pydrake` API is a thin wrapper over the C++ API. Most code can be ported very easily (in either direction).\n\nFor an overview about the philosophy behind [Drake](https://drake.mit.edu), consider reading this [blog post](https://medium.com/toyotaresearch/drake-model-based-design-in-the-age-of-robotics-and-machine-learning-59938c985515).\nWe have organized the tutorials around the three major components described in that post:\n\n### Running the tutorials\n\nTo host the tutorials online, we use Deepnote. You can _view_ all of the tutorials online _without creating a Deepnote account_.\n\nIf you would like to run a tutorial _interactively_ or to experiment with editing the code, click the 'Duplicate' button in the upper right while viewing. You'll be prompted to create an account using Google, GitHub, or SSO. The button will duplicate the entire suite of tutorials into your own personal Deepnote project.\n \nAlternatively, to run the tutorials locally, you can install pydrake; refer to [drake/tutorials/README.md](https://github.com/RobotLocomotion/drake/blob/master/tutorials/README.md) for details.\n\n## Multibody Dynamics\n\n- [Authoring a multibody simulation](./authoring_multibody_simulation.ipynb)\n- [Mathematical programming with MultibodyPlant](./mathematical_program_multibody_plant.ipynb)\n- [PyPlot animation](./pyplot_animation_multibody_plant.ipynb)\n- [Rendering MultibodyPlant](./rendering_multibody_plant.ipynb)\n\nMore multibody tutorials coming soon!\n\n## Mathematical Programming\n\n- [MathematicalProgram](./mathematical_program.ipynb)\n- [Setting solver parameters](./solver_parameters.ipynb)\n- [Updating costs and constraints](./updating_costs_and_constraints.ipynb) (e.g. for efficient solving of many similar programs)\n- [Debugging tips](./debug_mathematical_program.ipynb)\n- [Linear program](./linear_program.ipynb)\n- [Quadratic program](./quadratic_program.ipynb)\n- [Nonlinear program](./nonlinear_program.ipynb)\n- [Sum-of-squares optimization](./sum_of_squares_optimization.ipynb)\n- [Enabling licensed solvers on Deepnote](./licensed_solvers_deepnote.ipynb)\n\n## Dynamical Systems\n\n- [Modeling Dynamical Systems](./dynamical_systems.ipynb)\n\nMore systems tutorials coming soon!\n\n## Additional resources\n\n- [C++ API](https://drake.mit.edu/doxygen_cxx/index.html) documentation\n- [Python API](https://drake.mit.edu/pydrake/index.html) documentation\n- MIT 6.800 [Robotic Manipulation](https://manipulation.mit.edu) course notes\n- MIT 6.832 [Underactuated Robotics](https://underactuated.mit.edu) course notes\n- [Getting help](https://drake.mit.edu/getting_help.html)\n",
   "metadata": {
    "cell_id": "b09fa714-bfdd-4729-93a4-b60227e64e18",
    "deepnote_cell_type": "markdown"
   }
  },
  {
   "cell_type": "markdown",
   "source": "<a style='text-decoration:none;line-height:16px;display:flex;color:#5B5B62;padding:10px;justify-content:end;' href='https://deepnote.com?utm_source=created-in-deepnote-cell&projectId=2b4fc509-aef2-417d-a40d-6071dfed9199' target=\"_blank\">\n<img alt='Created in deepnote.com' style='display:inline;max-height:16px;margin:0px;margin-right:7.5px;' src='data:image/svg+xml;base64,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' > </img>\nCreated in <span style='font-weight:600;margin-left:4px;'>Deepnote</span></a>",
   "metadata": {
    "tags": [],
    "created_in_deepnote_cell": true,
    "deepnote_cell_type": "markdown"
   }
  }
 ],
 "nbformat": 4,
 "nbformat_minor": 2,
 "metadata": {
  "language_info": {
   "name": "python"
  },
  "orig_nbformat": 4,
  "deepnote_notebook_id": "5eb4a457-5525-4f39-a3c1-b72d6b74a541",
  "deepnote": {},
  "deepnote_execution_queue": []
 }
}