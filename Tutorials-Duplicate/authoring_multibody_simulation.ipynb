{
 "cells": [
  {
   "cell_type": "markdown",
   "source": "# Authoring a Multibody Simulation\nFor instructions on how to run these tutorial notebooks, please see the [index](./index.ipynb).\n",
   "metadata": {
    "cell_id": "adae79ec-caf5-4a0a-96b5-12b521e638a8",
    "deepnote_cell_type": "markdown",
    "deepnote_cell_height": 120.390625
   }
  },
  {
   "cell_type": "markdown",
   "source": "This tutorial provides some tools to help you create a new scene description file that can be parsed into Drake's multibody physics engine (MultibodyPlant) and geometry engine (SceneGraph).",
   "metadata": {
    "cell_id": "00001-426a882e-d6b5-4e07-a650-170c6050f5cc",
    "deepnote_cell_type": "markdown",
    "deepnote_cell_height": 74.796875
   }
  },
  {
   "cell_type": "markdown",
   "source": "## Scene file formats: URDF and SDFormat\n\nThe most important formats for creating multibody scenarios in Drake are the [Unified Robot Description Format (URDF)](http://wiki.ros.org/urdf) and the [Simulation Description Format (SDFormat)](http://sdformat.org/).\n\nThey are both XML formats to describe robots or objects for robot simulators or visualization, and are fairly similar in syntax.\n\nIn a high-level sense, you express different components of your robot using `<link>` tags and connect them via `<joint>` tags. Each `<link>` has three major subtags, `<visual>`, `<collision>`, and `<inertial>`, for its visualization, planning/collision checking, and dynamics aspects. For `<visual>` and `<collision>`, you can either use primitives (box, sphere, cylinder, etc.) or meshes (.obj, .stl, and .dae) to represent the underlying geometry.\n\nHere are some useful resources specifically for [URDF](http://wiki.ros.org/urdf/Tutorials/Building%20a%20Visual%20Robot%20Model%20with%20URDF%20from%20Scratch) and [SDFormat](https://classic.gazebosim.org/tutorials?tut=build_model) creation.\n\n### URDF vs. SDFormat\n\nWhile URDF is the standardized format in ROS, it's lacking many features to describe a more complex scene. For example, URDF can only specify the kinematic and dynamic properties of a single robot in isolation. It can't specify joint loops and friction properties. Additionally, it can't specify things that are not robots, such as lights, heightmaps, etc.\n\nSDFormat was created to solve the shortcomings of URDF. SDFormat is a complete description for everything from the world level down to the robot level. This scalability makes it more suitable for sophisticated simulations.\n\nThis tutorial will primarily focus on leveraging SDFormat, but the differences in using URDF should be minimal with some syntax changes.\n\n### Mesh file formats\n\nTo use a mesh file for any of your robot `<link>` entries, OBJ (`.obj`) is currently the best-supported format in Drake. If you have other file formats instead, [Meshlab](https://www.meshlab.net/), an open-source software, is a handy tool to convert common formats to a `.obj` for you.",
   "metadata": {
    "cell_id": "00002-202ea4e1-99da-4f37-86dd-c44596f5e07d",
    "deepnote_cell_type": "markdown",
    "deepnote_cell_height": 666.765625
   }
  },
  {
   "cell_type": "code",
   "metadata": {
    "cell_id": "00003-c544377f-fa52-4269-84e0-348b3c2bfe54",
    "deepnote_to_be_reexecuted": false,
    "source_hash": "d5de6a7d",
    "execution_start": 1671048562356,
    "execution_millis": 436,
    "deepnote_cell_type": "code",
    "deepnote_cell_height": 364
   },
   "source": "# Import some basic libraries and functions for this tutorial.\nimport numpy as np\nimport os\n\nfrom pydrake.common import FindResourceOrThrow, temp_directory\nfrom pydrake.geometry import (\n    MeshcatVisualizer,\n    MeshcatVisualizerParams,\n    Role,\n    StartMeshcat,\n)\nfrom pydrake.math import RigidTransform, RollPitchYaw\nfrom pydrake.multibody.parsing import Parser\nfrom pydrake.multibody.plant import AddMultibodyPlantSceneGraph\nfrom pydrake.systems.analysis import Simulator\nfrom pydrake.systems.framework import DiagramBuilder\nfrom pydrake.visualization import ModelVisualizer",
   "execution_count": null,
   "outputs": []
  },
  {
   "cell_type": "code",
   "metadata": {
    "cell_id": "00004-3b5ac721-e4fc-4a15-8400-1f85e6c1d80c",
    "deepnote_to_be_reexecuted": false,
    "source_hash": "450eddfc",
    "execution_start": 1671048562842,
    "execution_millis": 50,
    "deepnote_cell_type": "code",
    "deepnote_cell_height": 213.578125,
    "deepnote_output_heights": [
     null,
     20.1875
    ]
   },
   "source": "# Start the visualizer. The cell will output an HTTP link after the execution.\n# Click the link and a MeshCat tab should appear in your browser.\nmeshcat = StartMeshcat()",
   "execution_count": null,
   "outputs": [
    {
     "name": "stderr",
     "text": "INFO:drake:Meshcat listening for connections at https://2b4fc509-aef2-417d-a40d-6071dfed9199.deepnoteproject.com/7000/\nInstalling NginX server for MeshCat on Deepnote...\n",
     "output_type": "stream"
    },
    {
     "data": {
      "text/plain": "<IPython.core.display.HTML object>",
      "text/html": "Meshcat URL: <a href='https://2b4fc509-aef2-417d-a40d-6071dfed9199.deepnoteproject.com/7000/' target='_blank'>https://2b4fc509-aef2-417d-a40d-6071dfed9199.deepnoteproject.com/7000/</a>"
     },
     "metadata": {},
     "output_type": "display_data"
    }
   ]
  },
  {
   "cell_type": "markdown",
   "source": "## Viewing models\n\n*Make sure you have the MeshCat tab opened in your browser; the link is shown immediately above.*\n\nDrake provides a `ModelVisualizer` class to visualize models interactively. This class will help as we start to produce our own robot description files, or port description files over from another simulator. We'll show examples in the cells below, using a couple of pre-existing models provided by Drake.\n\nAfter running each of the two example cells, switch to the MeshCat tab to see the robot. Be sure to check out both the visual and collision geometries using the MeshCat control panel. Click **Open Controls** to unfold the control panel.  The geometry checkboxes are under the **Scene / drake** menu. Try adjusting the sliding bars to observe the kinematics of the robot.",
   "metadata": {
    "cell_id": "00005-1bde059a-2415-4e2f-a5da-0a8e273bd5f8",
    "deepnote_cell_type": "markdown",
    "deepnote_cell_height": 270.78125
   }
  },
  {
   "cell_type": "code",
   "metadata": {
    "cell_id": "00006-4194afc1-e77f-4cff-9949-be5f164684c9",
    "deepnote_to_be_reexecuted": false,
    "source_hash": "1c4b0d6e",
    "execution_start": 1671048563088,
    "deepnote_cell_type": "code",
    "deepnote_cell_height": 589.890625
   },
   "source": "# First we'll locate one of Drake's example model files, a KUKA iiwa arm.\n# Note that FindResourceOrThrow() is only used for models included with Drake.\n# Don't use FindResourceOrThrow for your own models.\niiwa7_model_file = FindResourceOrThrow(\n    \"drake/manipulation/models/\"\n    \"iiwa_description/iiwa7/iiwa7_with_box_collision.sdf\")\n\n# Create a model visualizer and add the robot arm.\nvisualizer = ModelVisualizer(meshcat=meshcat)\nvisualizer.AddModels(iiwa7_model_file)\n\n# When this notebook is run in test mode it needs to stop execution without\n# user interaction. For interactive model visualization you won't normally\n# need the 'loop_once' flag.\ntest_mode = True if \"TEST_SRCDIR\" in os.environ else False\n\n# Start the interactive visualizer.\n# Click the \"Stop Running\" button in MeshCat when you're finished.\nvisualizer.Run(loop_once=test_mode)",
   "execution_count": null,
   "outputs": [
    {
     "name": "stdout",
     "text": "Use Ctrl-C or click 'Stop Running' to quit\n",
     "output_type": "stream"
    },
    {
     "output_type": "error",
     "ename": "KernelInterrupted",
     "evalue": "Execution interrupted by the Jupyter kernel.",
     "traceback": [
      "\u001b[0;31m---------------------------------------------------------------------------\u001b[0m",
      "\u001b[0;31mKernelInterrupted\u001b[0m: Execution interrupted by the Jupyter kernel."
     ]
    }
   ]
  },
  {
   "cell_type": "code",
   "metadata": {
    "cell_id": "00007-ac0e0e02-a202-4ea0-b8a5-31401b87bac8",
    "deepnote_to_be_reexecuted": false,
    "source_hash": "a924c192",
    "execution_start": 1671064250391,
    "deepnote_cell_type": "code",
    "deepnote_cell_height": 340.6875
   },
   "source": "# Locate another one of Drake's example model files, a Schunk WSG gripper.\n# Note that FindResourceOrThrow() is only used for models included with Drake.\n# Don't use FindResourceOrThrow for your own models.\nschunk_wsg50_model_file = FindResourceOrThrow(\n    \"drake/manipulation/models/\"\n    \"wsg_50_description/sdf/schunk_wsg_50_with_tip.sdf\")\n\n# Create a NEW model visualizer and add the robot gripper.\nvisualizer = ModelVisualizer(meshcat=meshcat)\nvisualizer.AddModels(schunk_wsg50_model_file)\n\n# Start the interactive visualizer.\n# Click the \"Stop Running\" button in MeshCat when you're finished.\nvisualizer.Run(loop_once=test_mode)",
   "execution_count": null,
   "outputs": [
    {
     "name": "stdout",
     "text": "Use Ctrl-C or click 'Stop Running' to quit\n",
     "output_type": "stream"
    }
   ]
  },
  {
   "cell_type": "markdown",
   "source": "## Creating custom models\nBesides loading the existing SDFormat files in Drake, you can also create your own SDFormat model and visualize it in this tutorial. The data can be in a file or in a string.\n\nWe can create a very simple SDFormat that contains one model with a single link. Inside the link, we declare the mass and inertia properties, along with a primitive cylinder for the visual and collision geometries.\n\nYou can modify the snippet below to change the size or material property of the cylinder.",
   "metadata": {
    "cell_id": "00008-d0d81436-bf6b-4bd2-a0bb-bc4a256ebdd3",
    "deepnote_cell_type": "markdown",
    "deepnote_cell_height": 225.984375
   }
  },
  {
   "cell_type": "code",
   "metadata": {
    "cell_id": "00009-6b83f017-08e9-4613-952e-f560dd821dc2",
    "deepnote_to_be_reexecuted": true,
    "source_hash": "7fa0c02c",
    "deepnote_cell_type": "code",
    "deepnote_cell_height": 778
   },
   "source": "# Define a simple cylinder model.\ncylinder_sdf = \"\"\"<?xml version=\"1.0\"?>\n<sdf version=\"1.7\">\n  <model name=\"cylinder\">\n    <pose>0 0 0 0 0 0</pose>\n    <link name=\"cylinder_link\">\n      <inertial>\n        <mass>1.0</mass>\n        <inertia>\n          <ixx>0.005833</ixx>\n          <ixy>0.0</ixy>\n          <ixz>0.0</ixz>\n          <iyy>0.005833</iyy>\n          <iyz>0.0</iyz>\n          <izz>0.005</izz>\n        </inertia>\n      </inertial>\n      <collision name=\"collision\">\n        <geometry>\n          <cylinder>\n            <radius>0.1</radius>\n            <length>0.2</length>\n          </cylinder>\n        </geometry>\n      </collision>\n      <visual name=\"visual\">\n        <geometry>\n          <cylinder>\n            <radius>0.1</radius>\n            <length>0.2</length>\n          </cylinder>\n        </geometry>\n        <material>\n          <diffuse>1.0 1.0 1.0 1.0</diffuse>\n        </material>\n      </visual>\n    </link>\n  </model>\n</sdf>\n\"\"\"",
   "execution_count": null,
   "outputs": []
  },
  {
   "cell_type": "markdown",
   "source": "In addition to the `AddModels` method, the `ModelVisualizer` class provides access to its `Parser` object; you can access the full parser API to add models, e.g., from the string buffer we just created.",
   "metadata": {
    "cell_id": "00010-4a23c979-5826-440a-8cb6-8e217f30a39e",
    "deepnote_cell_type": "markdown",
    "deepnote_cell_height": 37
   }
  },
  {
   "cell_type": "code",
   "metadata": {
    "cell_id": "00011-76a65a5f-dbef-47f0-a0bd-a5643a5ad809",
    "deepnote_to_be_reexecuted": true,
    "source_hash": "83cbde6f",
    "deepnote_cell_type": "code",
    "deepnote_cell_height": 151
   },
   "source": "# Visualize the cylinder from the SDFormat string you just defined.\nvisualizer = ModelVisualizer(meshcat=meshcat)\nvisualizer.parser().AddModelsFromString(cylinder_sdf, \"sdf\")\n\n# Click the \"Stop Running\" button in MeshCat when you're finished.\nvisualizer.Run(loop_once=test_mode)",
   "execution_count": null,
   "outputs": []
  },
  {
   "cell_type": "markdown",
   "source": "### Visual and collision geometry\n\nIn the KUKA arm example, if you toggle the `drake/collision` checkbox in the MeshCat control panel a couple of times, you should see white boxes enveloping the KUKA arm appear and disappear. Those are the collision geometries defined in `iiwa7_with_box_collision.sdf` that are usually consumed by a motion planning or collision checking module when running the simulation.\n\nEven though we can use the same mesh to represent both the visual and collision geometry, approximating a complex mesh, like the KUKA arm, by primitive shapes can reduce the computation enormously. It's easier to check whether two cylinders collide than two irregular cylinder-like meshes. For that reason, we tend to load mesh files as the visual geometry but utilize various primitives as the collision geometry.\n\n### Define collision geometry for your model\n\nAs collision geometry is merely an approximation for the actual shape of your model, we want the approximation to be reasonably close to reality. A rule of thumb is to completely envelop the actual shape but not inflate it too much. For example, rather than trying to cover an L-shape model with one giant box, using two boxes or cylinders can actually better represent the shape.\n\nIt's a balancing act between the fidelity of the approximation and the computation cycles saved. When in doubt, start with a rough approximation around the actual shape and see if any undesired behavior is introduced, e.g., the robot thinks it's in a collision when it's apparently not. Identify the questionable part of the collision geometry and replace it with a more accurate approximation, and then iterate.\n\n### Use a mesh as collision geometry\n\nIn some cases you need to have a detailed collision geometry for your simulation, e.g., in the case of dexterous manipulation for objects with an irregular shape, it might be justifiable to use a mesh as the collision geometry directly.\n\nWhen an OBJ mesh is served as the collision geometry for a basic contact model, i.e., the point contact model, Drake will internally compute the convex hull of the mesh and use that instead. If you need a non-convex collision geometry, it's suggested to decompose your mesh to various convex shapes via a convex decomposition tool. There are many similar tools available that are mostly thin wrappers on [V-HACD](https://github.com/kmammou/v-hacd/). Among all, [convex_decomp_to_sdf](https://github.com/gizatt/convex_decomp_to_sdf) is a wrapper that we often use for Drake.\n\nHowever, for a more complex contact model that Drake provides, such as the hydroelastic contact model, Drake can directly utilize the actual mesh for its contact force computation. Refer to [Hydroelastic user guide](https://drake.mit.edu/doxygen_cxx/group__hydroelastic__user__guide.html) for more information.",
   "metadata": {
    "cell_id": "00012-511fd5c6-2455-4003-9be9-50e316b52a6c",
    "deepnote_cell_type": "markdown",
    "deepnote_cell_height": 361
   }
  },
  {
   "cell_type": "markdown",
   "source": "### Drake extensions to SDFormat/URDF\n\nHopefully, you now have a clear picture of how to create, load, and visualize basic SDFormat and URDF models in Drake via MeshCat.\n\nIn Drake, we extend URDF and SDFormat to allow access to Drake-specific features by adding Drake's custom tags. In the following example, `drake:compliant_hydroelastic` custom tag is added under the `collision` tag to declare a different contact model for a particular geometry. On the other hand, there are also features in both formats that Drake's parser doesn't support. The parser will either issue a warning, ignore it silently, or a combination of both.\n\nConsidering this is a more advanced topic, check [Drake's documentation](https://drake.mit.edu/doxygen_cxx/group__multibody__parsing.html) for a full list of supported and unsupported tags in both formats.\n\n```\n<link name=\"example_link\">\n  <inertial>\n    ...\n  </inertial>\n  <visual name=\"example_visual\">\n    ...\n  </visual>\n  <collision name=\"example_collision\">\n    <pose>0 0 0 0 0 0</pose>\n    <geometry>\n      ...\n    </geometry>\n    <drake:proximity_properties>\n      ...\n      <drake:compliant_hydroelastic/>\n    </drake:proximity_properties>\n  </collision>\n</link>\n```",
   "metadata": {
    "cell_id": "00013-4013f760-dad3-42e0-8d1e-79e27e90a6da",
    "deepnote_cell_type": "markdown"
   }
  },
  {
   "cell_type": "markdown",
   "source": "## Creating (or porting) a \"scene\" with multiple robots/objects\n\nFinally, we are going to look at a more realistic simulation that contains multiple objects interacting with each other. In the simulation, we will load three objects, i.e., a cracker box from Drake, and a custom cylinder and table we created in this tutorial.\n\nAt the beginning of the simulation, two objects are posed at certain heights, and then they free fall to the tabletop with gravity.\n\n### Create a simplified table\n\nThis is similar to the cylinder example above but here we create and save the XML content to an SDFormat file to use in our simulation.",
   "metadata": {
    "cell_id": "00014-d7a559bf-a49d-49ff-8a79-268986282ffc",
    "deepnote_cell_type": "markdown"
   }
  },
  {
   "cell_type": "code",
   "metadata": {
    "cell_id": "00015-ce0f31d0-c207-41cb-ba6a-5a2ced1e54c2",
    "deepnote_to_be_reexecuted": true,
    "source_hash": "a306ded",
    "deepnote_cell_type": "code",
    "deepnote_cell_height": 781
   },
   "source": "# Create a Drake temporary directory to store files.\n# Note: this tutorial will create a temporary file (table_top.sdf)\n# in the `/tmp/robotlocomotion_drake_xxxxxx` directory.\ntemp_dir = temp_directory()\n\n# Create a table top SDFormat model.\ntable_top_sdf_file = os.path.join(temp_dir, \"table_top.sdf\")\ntable_top_sdf = \"\"\"<?xml version=\"1.0\"?>\n<sdf version=\"1.7\">\n  <model name=\"table_top\">\n    <link name=\"table_top_link\">\n      <visual name=\"visual\">\n        <pose>0 0 0.445 0 0 0</pose>\n        <geometry>\n          <box>\n            <size>0.55 1.1 0.05</size>\n          </box>\n        </geometry>\n        <material>\n         <diffuse>0.9 0.8 0.7 1.0</diffuse>\n        </material>\n      </visual>\n      <collision name=\"collision\">\n        <pose>0 0 0.445  0 0 0</pose>\n        <geometry>\n          <box>\n            <size>0.55 1.1 0.05</size>\n          </box>\n        </geometry>\n      </collision>\n    </link>\n    <frame name=\"table_top_center\">\n      <pose relative_to=\"table_top_link\">0 0 0.47 0 0 0</pose>\n    </frame>\n  </model>\n</sdf>\n\n\"\"\"\n\nwith open(table_top_sdf_file, \"w\") as f:\n    f.write(table_top_sdf)",
   "execution_count": null,
   "outputs": []
  },
  {
   "cell_type": "markdown",
   "source": "### Drake terminology\n\nIn Drake, a [`System`](https://drake.mit.edu/doxygen_cxx/classdrake_1_1systems_1_1_system.html) is the building block that has input/output ports to connect with other Systems. For example, MultibodyPlant and SceneGraph are both Systems. A [`Diagram`](https://drake.mit.edu/doxygen_cxx/classdrake_1_1systems_1_1_diagram.html) is used to represent a meta-system that may have several interconnected Systems that function collectively.\n\nEach System and Diagram has its own [`Context`](https://drake.mit.edu/doxygen_cxx/classdrake_1_1systems_1_1_context.html) to represent its state and will be updated as the simulation progresses.\n\nThe Context and the Diagram are the only two pieces of information a simulator needs to run. Given the same Context of a Diagram, the simulation should be completely deterministic and repeatable.\n\nRefer to [Modeling Dynamical Systems](https://github.com/RobotLocomotion/drake/blob/master/tutorials/dynamical_systems.ipynb), which covers more details on the relevant topics.\n\n*Note: Drake uses [Doxygen C++ Documentation](https://drake.mit.edu/doxygen_cxx/index.html) as the primary API documentation, but it also provides [Python API documentation](https://drake.mit.edu/pydrake/) for Python users.*\n\n### Load different objects into a \"scene\"\n\nIn the `create_scene()` function, we first create a `pydrake.multibody.MultibodyPlant`, a `pydrake.multibody.SceneGraph`, and a `pydrake.multibody.parsing.Parser`.\n\nThe parser is used to load the models into a MultibodyPlant. One thing to note in this example is we fix (or \"weld\") the table with respect to the world while treating the cracker box and the cylinder as free bodies. Once the MultibodyPlant is all set up properly, the function returns a diagram that a Drake Simulator consumes (a default context is used in this case).",
   "metadata": {
    "cell_id": "00016-fb6bc7d4-214b-4cb1-ac6a-c08a879473ce",
    "deepnote_cell_type": "markdown"
   }
  },
  {
   "cell_type": "code",
   "metadata": {
    "cell_id": "00017-44c00353-335a-4231-9abe-e07235d952bc",
    "deepnote_to_be_reexecuted": true,
    "source_hash": "1c5c5f06",
    "deepnote_cell_type": "code",
    "deepnote_cell_height": 943
   },
   "source": "def create_scene(sim_time_step=0.0001):\n    # Clean up the Meshcat instance.\n    meshcat.Delete()\n    meshcat.DeleteAddedControls()\n\n    builder = DiagramBuilder()\n    plant, scene_graph = AddMultibodyPlantSceneGraph(\n        builder, time_step=sim_time_step)\n    parser = Parser(plant)\n\n    # Loading models.\n    # Load a cracker box from Drake. \n    cracker_box = FindResourceOrThrow(\n        \"drake/manipulation/models/ycb/sdf/003_cracker_box.sdf\")\n    parser.AddModels(cracker_box)\n    # Load the table top and the cylinder we created.\n    parser.AddModelsFromString(cylinder_sdf, \"sdf\")\n    parser.AddModels(table_top_sdf_file)\n\n    # Weld the table to the world so that it's fixed during the simulation.\n    table_frame = plant.GetFrameByName(\"table_top_center\")\n    plant.WeldFrames(plant.world_frame(), table_frame)\n    # Finalize the plant after loading the scene.\n    plant.Finalize()\n    # We use the default context to calculate the transformation of the table\n    # in world frame but this is NOT the context the Diagram consumes.\n    plant_context = plant.CreateDefaultContext()\n\n    # Set the initial pose for the free bodies, i.e., the custom box and the\n    # cracker box.\n    cylinder = plant.GetBodyByName(\"cylinder_link\")\n    X_WorldTable = table_frame.CalcPoseInWorld(plant_context)\n    X_TableCylinder = RigidTransform(\n        RollPitchYaw(np.asarray([90, 0, 0]) * np.pi / 180), p=[0,0,0.5])\n    X_WorldCylinder = X_WorldTable.multiply(X_TableCylinder)\n    plant.SetDefaultFreeBodyPose(cylinder, X_WorldCylinder)\n\n    cracker_box = plant.GetBodyByName(\"base_link_cracker\")\n    X_TableCracker = RigidTransform(\n        RollPitchYaw(np.asarray([45, 30, 0]) * np.pi / 180), p=[0,0,0.8])\n    X_WorldCracker = X_WorldTable.multiply(X_TableCracker)\n    plant.SetDefaultFreeBodyPose(cracker_box, X_WorldCracker)\n\n    # Add visualizer to visualize the geometries.\n    visualizer = MeshcatVisualizer.AddToBuilder(\n        builder, scene_graph, meshcat,\n        MeshcatVisualizerParams(role=Role.kPerception, prefix=\"visual\"))\n\n    diagram = builder.Build()\n    return diagram, visualizer",
   "execution_count": null,
   "outputs": []
  },
  {
   "cell_type": "markdown",
   "source": "## Running a simple simulation\n\nWe have everything we need to launch the simulator! Run the following code block to start the simulation and visualize it in your MeshCat tab.\n\nThis simple simulation represents a passive system in that the objects fall purely due to gravity without other power sources. Did they do what you expect? You can also use the **reset** and **play** buttons in the MeshCat tab to re-run the simulation.\n\nTry adjusting the `sim_time_step` and re-run the simulation. Start with a small value and increase it gradually to see if that changes the behavior.",
   "metadata": {
    "cell_id": "00018-45332cc2-6161-49db-bb25-fba9b1608adb",
    "deepnote_cell_type": "markdown"
   }
  },
  {
   "cell_type": "code",
   "metadata": {
    "cell_id": "00019-e45cc426-335c-423b-89c9-1549f584ce5f",
    "deepnote_to_be_reexecuted": true,
    "source_hash": "4fe8c9f4",
    "deepnote_cell_type": "code",
    "deepnote_cell_height": 313
   },
   "source": "def initialize_simulation(diagram):\n    simulator = Simulator(diagram)\n    simulator.Initialize()\n    simulator.set_target_realtime_rate(1.)\n    return simulator\n\ndef run_simulation(sim_time_step):\n    diagram, visualizer = create_scene(sim_time_step)\n    simulator = initialize_simulation(diagram)\n    visualizer.StartRecording()\n    simulator.AdvanceTo(5.0)\n    visualizer.PublishRecording()\n\n# Run the simulation with a small time step. Try gradually increasing it!\nrun_simulation(sim_time_step=0.0001)",
   "execution_count": null,
   "outputs": []
  },
  {
   "cell_type": "markdown",
   "source": "## Debugging your MultibodyPlant/SceneGraph\n\nSometimes people get surprising results, e.g., unreasonable behaviors in simulation or program crash, due to the discrepancy between the simulation setup and the real-world physics properties.\n\n### Debugging the inertial property\nOne common scenario for that is a lack of inertial properties for some of the simulated objects. The time step of the simulation may become extremely small (e.g., < 0.001s) due to the poorly specified system. Alternatively, you may receive an error message about `Delta > 0` or a warning that the inertial matrix is not physically valid.\n\nDouble-check the inertial properties, especially if the dynamic behavior is the focus of the simulation.\n\n### Debugging the mass property\nYou don't need to specify the mass of an object if it's welded to the world. However, an error will be triggered if you have a movable object with zero mass as the simulation is not yet fully specified.\n\nHint: Does the mass/inertia of the movable objects seem reasonable? Try modifying them and rerun the simulation to observe changes.",
   "metadata": {
    "cell_id": "00020-f239a68f-f368-4ca5-9b7b-e9db89bacd36",
    "deepnote_cell_type": "markdown"
   }
  },
  {
   "cell_type": "markdown",
   "source": "## Next steps\n\nThis tutorial helps you set up the physics (MultibodyPlant) and geometry engines (SceneGraph) and visualize the simulation in MechCat. However, most robotics simulations require more. Next, you might need to model the sensors, the low-level control system, and eventually even the high-level perception, planning, and control systems for a real-world robot platform.\n\nHere are some other resources to help you explore further.\n\n- [Drake MultibodyPlant](https://drake.mit.edu/doxygen_cxx/classdrake_1_1multibody_1_1_multibody_plant.html)\n- [Drake SceneGraph](https://drake.mit.edu/doxygen_cxx/classdrake_1_1geometry_1_1_scene_graph.html)\n- [Introduction to the basic robot pick-and-place using Drake](https://manipulation.csail.mit.edu/pick.html)",
   "metadata": {
    "cell_id": "00021-552427ef-278f-4f00-96d5-e2265f401d7a",
    "deepnote_cell_type": "markdown"
   }
  },
  {
   "cell_type": "markdown",
   "source": "",
   "metadata": {
    "cell_id": "00022-692d06aa-aebf-4053-94db-3823cb4cca02",
    "deepnote_cell_type": "markdown"
   }
  },
  {
   "cell_type": "markdown",
   "source": "<a style='text-decoration:none;line-height:16px;display:flex;color:#5B5B62;padding:10px;justify-content:end;' href='https://deepnote.com?utm_source=created-in-deepnote-cell&projectId=44d9f620-2a4f-4eed-8005-6f7586c53014' target=\"_blank\">\n<img alt='Created in deepnote.com' style='display:inline;max-height:16px;margin:0px;margin-right:7.5px;' src='data:image/svg+xml;base64,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' > </img>\nCreated in <span style='font-weight:600;margin-left:4px;'>Deepnote</span></a>",
   "metadata": {
    "tags": [],
    "created_in_deepnote_cell": true,
    "deepnote_cell_type": "markdown"
   }
  }
 ],
 "nbformat": 4,
 "nbformat_minor": 2,
 "metadata": {
  "kernelspec": {
   "display_name": "Python 3",
   "language": "python",
   "name": "python3"
  },
  "language_info": {
   "codemirror_mode": {
    "name": "ipython",
    "version": 3
   },
   "file_extension": ".py",
   "mimetype": "text/x-python",
   "name": "python",
   "nbconvert_exporter": "python",
   "pygments_lexer": "ipython3",
   "version": "3.8.10"
  },
  "deepnote_notebook_id": "178908cd-7bdd-4627-89e6-cadf83214791",
  "deepnote": {},
  "deepnote_execution_queue": []
 }
}