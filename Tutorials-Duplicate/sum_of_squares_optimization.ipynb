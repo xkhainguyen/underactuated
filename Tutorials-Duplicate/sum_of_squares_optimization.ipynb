{
 "cells": [
  {
   "cell_type": "markdown",
   "source": "# Sum-of-Squares (SOS) optimization\nFor instructions on how to run these tutorial notebooks, please see the [index](./index.ipynb).\n",
   "metadata": {
    "cell_id": "d3c921d4-b61a-4a54-b3bd-31b4d1c96ac7",
    "deepnote_cell_type": "markdown"
   }
  },
  {
   "cell_type": "markdown",
   "source": "## Background\nSum-of-Squares (SOS) optimization is a special type of convex optimization. This type of optimization is formulated as a Semidefinite Programming (SDP) problem, which can be solved through several solvers supported by Drake's MathematicalProgram.\n\nA polynomial $p(x)$ is sum-of-squares if\n\n$\\begin{aligned}\np(x) = \\sum_i q_i(x)^2\n\\end{aligned}$\n\nwhere each $q_i(x)$ is also a polynomial of the indeterminates $x$. $p(x)$ being sum-of-squares is a *sufficient* condition for $p(x)$ being non-negative for all $x$. In some cases it is also a necessary and sufficient condition. For more details on the relationship between sum-of-squares and non-negativity of a polynomial, you could refer to Chapter 3 of [Semidefinite Optimization and Convex Algebraic Geometry](http://www.mit.edu/~parrilo/sdocag/).\n\nA polynomial $p(x)$ being sum-of-squares is equivalent to the existence of a positive semidefinite (psd) matrix $Q$, such that\n\n$\\begin{aligned}\np(x) = z(x)^T Q z(x), Q\\succeq 0\n\\end{aligned}$\n\nwhere $z(x)$ contains all the monomials of $x$ up to a certain degree. If $x\\in\\mathbb{R}^n$ and $p(x)$ has degree $2d$, then $z(x)$ contains all the monomials of $x$ up to degree $d$, namely the $z(x)$ has size ${{n+d}\\choose{d}}$. So searching for a sum-of-squares polynomial $p(x)$ is equivalent to searching for a positive semidefinite matrix $Q$, with the additional constraint that the polynomials $z(x)^TQz(x)$ and $p(x)$ are the same (they have the same coefficients).\n\nFor example, for the polynomial\n\n$\\begin{aligned}\np(x) = 2x_1^4 + 5x_2^4 - 2x_1^2x_2^2 + 2x_1^3x_2 + 2x_1 + 2,\n\\end{aligned}$\n\nwe have\n\n$\\begin{aligned}\np(x) = \\underbrace{\\begin{bmatrix} 1 \\\\x_1 \\\\x_2 \\\\ x_1^2 \\\\ x_1x_2 \\\\ x_2^2\\end{bmatrix}^T}_{z(x)^T} \\underbrace{\\frac{1}{3}\\begin{bmatrix} 6 & 3 & 0 & -2 & 0 & -2\\\\ 3 & 4 & 0 & 0 & 0 & 0\\\\0 & 0 & 4 & 0 & 0 & 0\\\\-2 & 0 & 0 & 6 & 3 & -4\\\\ 0 & 0 & 0 & 3 & 5 & 0\\\\ -2 & 0 & 0 & -4 & 0 & 15\\end{bmatrix}}_{Q} \\underbrace{\\begin{bmatrix} 1 \\\\ x_1 \\\\x_2 \\\\x_1^2 \\\\x_1x_2\\\\ x_2^2\\end{bmatrix}}_{z(x)}\n\\end{aligned}$\n\nwhere this $Q$ matrix is positive semidefinite, hence $p(x)$ is a sum-of-squares polynomial.\nIn fact, $p(x)$ can be decomposed as sum-of-squares \n\n$\\begin{aligned}\np(x) = \\frac{4}{3}x_2^2 + \\frac{1349}{705}x_2^4 + \\frac{1}{12}(4x_1+3)^2+\\frac{1}{15}(3x_1^2+5x_1x_2)^2+\\frac{1}{315}(-21x_1^2+20x_2^2+10)^2+\\frac{1}{59220}(328x_2^2-235)^2\n\\end{aligned}$",
   "metadata": {
    "cell_id": "00001-7ae0a1ec-407e-496b-9387-d3d8a5c2873f",
    "deepnote_cell_type": "markdown"
   }
  },
  {
   "cell_type": "markdown",
   "source": "## Solving sum-of-squares problem\nIn sum-of-squares problem, often we want to find a sum-of-squares polynomial that satisfies certain additional properties. Note that there are two different types of variables in sum-of-squares problems, the *indeterminates* and *decision variables*.\n* Decision variables: the coefficients of the polynomial are affine functions of our decision variables. We are optimizing over the decision variables.\n* Indeterminates: variables that can take any value. In the example above $x$ is an indeterminate -- the constraints that we write must hold $\\forall x$, we are *not* optimizing over these indeterminates.\n\nThere are some functions commonly used in sum-of-squares optimization within Drake's MathematicalProgram. We list some of them here\n* `MathematicalProgram.NewIndeterminates` Declares and returns new indeterminates.\n* `MathematicalProgram.AddSosConstraint` Imposes sum-of-squares (SOS) constraint on a polynomial.\n* `MathematicalProgram.NewSosPolynomial` Creates and returns a new polynomial, and constrain this polynomial to be sum-of-squares (SOS).\n* `MathematicalProgram.NewFreePolynomial` Creates and returns a new polynomial. No constraint has been imposed on this polynomial yet.\n* `MathematicalProgram.AddEqualityConstraintBetweenPolynomials` imposes the linear constraint that two polynomials are equal (they have the same coefficients for matching monomials).\n\nWe will describe the details of each function later. First let's look at some examples",
   "metadata": {
    "cell_id": "00002-e8e96366-75ab-4b93-a062-a46d1d5aa97b",
    "deepnote_cell_type": "markdown"
   }
  },
  {
   "cell_type": "markdown",
   "source": "### Imports",
   "metadata": {
    "cell_id": "00003-d2f95364-00e6-41ca-a825-556bdea61a29",
    "deepnote_cell_type": "markdown"
   }
  },
  {
   "cell_type": "code",
   "metadata": {
    "cell_id": "00004-437a7f22-4eb1-409c-9bc1-df9f7c3024f1",
    "deepnote_cell_type": "code"
   },
   "source": "import math\n\nimport numpy as np\nimport matplotlib.pyplot as plt\n\nfrom pydrake.solvers import MathematicalProgram, Solve\nimport pydrake.symbolic as sym",
   "execution_count": null,
   "outputs": []
  },
  {
   "cell_type": "markdown",
   "source": "### Example 1\nFor example, if we want to solve the following optimization problem (Example 3.50 of [Semidefinite Optimization and Convex Algebraic Geometry](http://www.mit.edu/~parrilo/sdocag/))\n\n$\\begin{aligned}\n\\min_{a}& -a_0 - a_1\\\\\n\\text{s.t }& x^4 + a_0 x + 2 + a_1 \\text{ is SOS}\\\\\n&(a_0 - a_1 + 1)x^2 + a_1x + 1\\text{ is SOS}\n\\end{aligned}$\n\nin this case, $x$ is the indeterminate, and $a$ is the decision variables.\n\nThe code below shows how to model and solve this SOS problem in drake's MathematicalProgram.",
   "metadata": {
    "cell_id": "00005-c262a75f-6b77-4e05-8aa7-d8118da33c3a",
    "deepnote_cell_type": "markdown"
   }
  },
  {
   "cell_type": "code",
   "metadata": {
    "cell_id": "00006-3c18fe6f-4112-46f0-a090-9b180a5e212c",
    "deepnote_cell_type": "code"
   },
   "source": "\"\"\"\nCode for example 1.\n\"\"\"\n\n# Initialize an empty optimization program.\nprog = MathematicalProgram()\n# Declare \"a\" as decision variables.\na = prog.NewContinuousVariables(2)\n# Declare \"x\" as indeterminates\nx = prog.NewIndeterminates(1)\n\n# Declare p1(x) = pow(x, 4) + a0 * x + 2 + a1. The second argument\n# [x] indicates that the indeterminates in the polynomial is x.\np1 = sym.Polynomial(x[0]**4 + a[0] * x[0] + 2 + a[1], [x])\n# Declare p2(x) = (a0 - a1 + 1) * pow(x, 2) + a1 * x + 1. The second argument\n# [x] indicates that the indeterminates in the polynomial is x.\np2 = sym.Polynomial((a[0] - a[1] + 1) * x[0] * x[0] + a[1] * x[0] + 1, [x])\n# Add the constraint that p1(x) and p2(x) are SOS\nprog.AddSosConstraint(p1)\nprog.AddSosConstraint(p2)\n\n# Add the cost -a0 - a1\nprog.AddCost(-a[0] - a[1])\n\n# Solve the problem.\nresult = Solve(prog)\n\n# Retrieve the solution.\nprint(result.get_solution_result())\nprint(\"a =\", result.GetSolution(a))",
   "execution_count": null,
   "outputs": []
  },
  {
   "cell_type": "markdown",
   "source": "### Example 2\n\n$\\begin{aligned}\n\\min_{a, b, c}&\\; a + b + c\\\\\n\\text{s.t }& x^4 + ax^3 + bx^2 + cx + 1 \\ge 0 \\quad\\forall x\\in[0, 1]\n\\end{aligned}$\n\nTo solve this problem, we use a special case of Theorem 3.72 from\n[Semidefinite Optimization and Convex Algebraic Geometry](http://www.mit.edu/~parrilo/sdocag/):\nAn even degree univariate polynomial $p(x)$ is nonnegative on interval $[0, 1]$ if and only if it can be written as\n\n$\\begin{aligned}\np(x) = s(x) + x(1-x)t(x)\n\\end{aligned}$\n\nwhere $s(x), t(x)$ are both sum-of-squares.\n\nHence we can reformulate the problem as\n\n$\\begin{aligned}\n\\min_{a, b, c, t}&\\; a+b+c\\\\\n\\text{s.t }& x^4 + ax^3 + bx^2 + cx + 1 - x(1-x)t(x) \\text{ is SOS}\\\\\n& t(x) \\text{ is SOS}\n\\end{aligned}$\n\nhere $x$ is the indeterminate, $a, b, c$ and the coefficients of polynomial $t(x)$ are the decision variables. The code below shows how to model and solve this problem in drake's MathematicalProgram",
   "metadata": {
    "cell_id": "00007-8b311b48-07fe-4950-91e1-3ab52b4db57a",
    "deepnote_cell_type": "markdown"
   }
  },
  {
   "cell_type": "code",
   "metadata": {
    "cell_id": "00008-8f14f507-1eca-4be5-8b9e-13733666ce73",
    "deepnote_cell_type": "code"
   },
   "source": "\"\"\"\nCode for example 2.\n\"\"\"\n\n# Initialize an empty optimization program.\nprog = MathematicalProgram()\n# Declares indeterminates\nx = prog.NewIndeterminates(1)\n\n# Declares decision variable a, b, and c\na = prog.NewContinuousVariables(1)[0]\nb = prog.NewContinuousVariables(1)[0]\nc = prog.NewContinuousVariables(1)[0]\n\n# Declare p(x), the second argument indicates this polynomial p(x) has x as the\n# indeterminates.\npoly_p = sym.Polynomial(x[0]**4 + a * x[0]**3 + b * x[0]** 2 + c * x[0] + 1, [x])\n# Declares SOS polynomial t(x), such that s(x) = p(x) - x(1-x) * t(x) is SOS.\n# The second return argument of NewSosPolynomial is the positive-semidefinite\n# Gramian matrix of poly_s. We ignore this matrix here.\n# t(x) should be a quadratic polynomial of x, hence the second input argument is\n# 2, indicating the degree of the returned polynomial.\npoly_t, _ = prog.NewSosPolynomial(sym.Variables(x), 2)\n# Compute s(x) = p(x) - x(1-x)t(x) as a polynomial of indeterminate x.\npoly_s = poly_p - sym.Polynomial(x[0] * (1 - x[0]), sym.Variables(x)) * poly_t\nprog.AddSosConstraint(poly_s)\n\n# Add the cost a + b + c\nprog.AddCost(a + b + c)\n\nresult = Solve(prog)\nprint(\"Is success? \", result.is_success())\nprint(result.get_solution_result())\na_val = result.GetSolution(a)\nb_val = result.GetSolution(b)\nc_val = result.GetSolution(c)\n\n# Now plot the polynomial p(x), that is always non-negative in the range [0, 1]\nx_val = np.linspace(0, 1, 100)\ny_val = np.power(x_val, 4) + a_val * np.power(x_val, 3) + b_val * np.power(x_val, 2) + c_val * x_val + 1\nplt.xlabel(\"x\")\nplt.ylabel(\"p(x)\")\nplt.plot(x_val, y_val)",
   "execution_count": null,
   "outputs": []
  },
  {
   "cell_type": "markdown",
   "source": "## Further readings\n\nSum-of-squares optimization has been widely used in numerous fields, including control theory, robotics, quantum information theory, etc. Here are some references\n\n#### Sum-of-squares theory\n* [Semidefinite Optimization and Convex Algebraic Geometry](http://www.mit.edu/~parrilo/sdocag/) by G Blekherman, P Parrilo and R Thomas\n* [Sum of squares techniques and polynomial optimization](http://www.princeton.edu/~amirali/Public/Presentations/CDC_2016_Parrilo_1) Presentation slides by Pablo Parrilo\n\n#### System control theory\n* [Structured Semidefinite Programs and Semialgebraic Geometry Methods in Robustness and Optimization](http://www.mit.edu/~parrilo/pubs/files/thesis.pdf) Pablo Parrilo's PhD thesis\n* [Robust Region-of-Attraction Estimation](https://ieeexplore.ieee.org/abstract/document/5337881) Ufuk Topcu, Andrew Packard, Peter Seiler, Gary Balas, IEEE Transactions on Automatic Control, 2009\n\n#### Robotics\n* [LQR-trees: Feedback motion planning via sums-of-squares verification](http://groups.csail.mit.edu/robotics-center/public_papers/Tedrake10.pdf) Russ Tedrake, Ian Manchester, Mark Tobenkin, John Roberts, International Journal of Robotics Research, 2010\n* [Funnel libraries for real-time robust feedback motion planning](http://groups.csail.mit.edu/robotics-center/public_papers/Majumdar16.pdf) Anirudha Majumdar and Russ Tedrake, International Journal of Robotics Research, 2017",
   "metadata": {
    "cell_id": "00009-60c26104-6c63-4ad2-8559-a41a81ee0cf4",
    "deepnote_cell_type": "markdown"
   }
  },
  {
   "cell_type": "markdown",
   "source": "<a style='text-decoration:none;line-height:16px;display:flex;color:#5B5B62;padding:10px;justify-content:end;' href='https://deepnote.com?utm_source=created-in-deepnote-cell&projectId=2b4fc509-aef2-417d-a40d-6071dfed9199' target=\"_blank\">\n<img alt='Created in deepnote.com' style='display:inline;max-height:16px;margin:0px;margin-right:7.5px;' src='data:image/svg+xml;base64,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' > </img>\nCreated in <span style='font-weight:600;margin-left:4px;'>Deepnote</span></a>",
   "metadata": {
    "tags": [],
    "created_in_deepnote_cell": true,
    "deepnote_cell_type": "markdown"
   }
  }
 ],
 "nbformat": 4,
 "nbformat_minor": 1,
 "metadata": {
  "kernelspec": {
   "display_name": "Python 3",
   "language": "python",
   "name": "python3"
  },
  "language_info": {
   "codemirror_mode": {
    "name": "ipython",
    "version": 3
   },
   "file_extension": ".py",
   "mimetype": "text/x-python",
   "name": "python",
   "nbconvert_exporter": "python",
   "pygments_lexer": "ipython3",
   "version": "3.6.9"
  },
  "deepnote_notebook_id": "c223114e-1d16-47d5-9210-4f08d0da9c97",
  "deepnote": {},
  "deepnote_execution_queue": []
 }
}