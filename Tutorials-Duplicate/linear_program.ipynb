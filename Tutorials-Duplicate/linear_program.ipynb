{
 "cells": [
  {
   "cell_type": "markdown",
   "source": "# Linear Program (LP) Tutorial\nFor instructions on how to run these tutorial notebooks, please see the [index](./index.ipynb).\n",
   "metadata": {
    "cell_id": "99b635a1-8391-461f-8e81-2e73485c104f",
    "deepnote_cell_type": "markdown"
   }
  },
  {
   "cell_type": "markdown",
   "source": "## Important Note\nPlease refer to [mathematical program tutorial](./mathematical_program.ipynb) for constructing and solving a general optimization program in Drake.",
   "metadata": {
    "cell_id": "00001-495559c6-e46a-46e8-b30c-e4d0ef5ee71f",
    "deepnote_cell_type": "markdown"
   }
  },
  {
   "cell_type": "markdown",
   "source": "## Linear Program\nA linear program (LP) is a special type of optimization problem. The cost and constraints in an LP is a linear (affine) function of decision variables. The mathematical formulation of a general LP is\n\n$\\begin{aligned} \\min_x \\;c^Tx + d\\\\ \\text{subject to } Ax\\leq b \\end{aligned}$\n\nA linear program can be solved by many open source or commercial solvers. Drake supports some solvers including SCS, Gurobi, MOSEK™, etc. Please see our [Doxygen page]( https://drake.mit.edu/doxygen_cxx/group__solvers.html) for a complete list of supported solvers. Note that some commercial solvers (such as Gurobi and MOSEK™) are not included in the pre-compiled Drake binaries, and therefore not on Deepnote/Colab/Binder. \n    \nDrake's API supports multiple functions to add linear cost and constraints. We briefly go through some of the functions in this tutorial. For a complete list of functions, please check our [Doxygen](https://drake.mit.edu/doxygen_cxx/classdrake_1_1solvers_1_1_mathematical_program.html).\n\n### Add linear cost\nThe easiest way to add linear cost is to call `AddLinearCost` function. We first demonstrate how to construct an optimization program with 2 decision variables, then we will call `AddLinearCost` to add the cost.",
   "metadata": {
    "cell_id": "00002-0dec8dcf-9aec-4db5-a624-da6ba47c7885",
    "deepnote_cell_type": "markdown"
   }
  },
  {
   "cell_type": "code",
   "metadata": {
    "cell_id": "00003-e14cc412-0afe-4a92-abe6-fc0a2e944c38",
    "deepnote_cell_type": "code"
   },
   "source": "from pydrake.solvers import MathematicalProgram, Solve\nimport numpy as np\n\n# Create an empty MathematicalProgram named prog (with no decision variables,\n# constraints or costs)\nprog = MathematicalProgram()\n# Add two decision variables x[0], x[1].\nx = prog.NewContinuousVariables(2, \"x\")",
   "execution_count": null,
   "outputs": []
  },
  {
   "cell_type": "markdown",
   "source": "We can call `AddLinearCost(expression)` to add a new linear cost. `expression` is a symbolic linear expression of the decision variables.",
   "metadata": {
    "cell_id": "00004-60b0a2db-b90c-4a9a-957f-1143fd6a4530",
    "deepnote_cell_type": "markdown"
   }
  },
  {
   "cell_type": "code",
   "metadata": {
    "cell_id": "00005-cac17486-b54a-4ffd-a53a-a05642379794",
    "deepnote_cell_type": "code"
   },
   "source": "# Add a symbolic linear expression as the cost.\ncost1 = prog.AddLinearCost(x[0] + 3 * x[1] + 2)\n# Print the newly added cost\nprint(cost1)\n# The newly added cost is stored in prog.linear_costs().\nprint(prog.linear_costs()[0])",
   "execution_count": null,
   "outputs": []
  },
  {
   "cell_type": "markdown",
   "source": "If we call `AddLinearCost` again, the total cost stored in `prog` is the summation of all the costs. You can see that `prog.linear_costs()` will have two entries.",
   "metadata": {
    "cell_id": "00006-144e125c-237a-4d1f-bc37-ef80bb707344",
    "deepnote_cell_type": "markdown"
   }
  },
  {
   "cell_type": "code",
   "metadata": {
    "cell_id": "00007-5d3cea95-ca09-43b1-83b1-d5cde12cae0f",
    "deepnote_cell_type": "code"
   },
   "source": "cost2 = prog.AddLinearCost(2 * x[1] + 3)\nprint(f\"number of linear cost objects: {len(prog.linear_costs())}\")",
   "execution_count": null,
   "outputs": []
  },
  {
   "cell_type": "markdown",
   "source": "If you know the coefficient of the linear cost as a vector, you could also add the cost by calling `AddLinearCost(e, f, x)` which will add a linear cost $e^Tx + f$ to the optimization program",
   "metadata": {
    "cell_id": "00008-76e1beb9-98a4-4ec4-a487-b9ea7f725498",
    "deepnote_cell_type": "markdown"
   }
  },
  {
   "cell_type": "code",
   "metadata": {
    "cell_id": "00009-2255ac60-e79d-4b21-bbd6-3fec63d55b32",
    "deepnote_cell_type": "code"
   },
   "source": "# We add a linear cost 3 * x[0] + 4 * x[1] + 5 to prog by specifying the coefficients\n# [3., 4] and the constant 5 in AddLinearCost\ncost3 = prog.AddLinearCost([3., 4.], 5., x)\nprint(cost3)",
   "execution_count": null,
   "outputs": []
  },
  {
   "cell_type": "markdown",
   "source": "Lastly, the user can call `AddCost` to add a linear expression to the linear cost. Drake will analyze the structure of the expression, if Drake determines the expression is linear, then the added cost is linear.",
   "metadata": {
    "cell_id": "00010-5769fe76-f46f-4bff-a487-944ec1dadec9",
    "deepnote_cell_type": "markdown"
   }
  },
  {
   "cell_type": "code",
   "metadata": {
    "cell_id": "00011-5c8df470-f984-4d0f-8b78-fb4d089099d6",
    "deepnote_cell_type": "code"
   },
   "source": "print(f\"number of linear cost objects before calling AddCost: {len(prog.linear_costs())}\")\n# Call AddCost to add a linear expression as linear cost. After calling this function,\n# len(prog.linear_costs()) will increase by 1.\ncost4 = prog.AddCost(x[0] + 3 * x[1] + 5)\nprint(f\"number of linear cost objects after calling AddCost: {len(prog.linear_costs())}\")",
   "execution_count": null,
   "outputs": []
  },
  {
   "cell_type": "markdown",
   "source": "### Add linear constraints\nWe have three types of linear constraints\n  * Bounding box constraint. A lower/upper bound on the decision variable: $ lower \\le x \\le upper $.\n  * Linear equality constraint: $Ax = b$.\n  * Linear inequality constraint: $lower <= Ax <= upper$.\n  \n#### AddLinearConstraint and AddConstraint function\nThe easiest way to add linear constraints is to call `AddConstraint` or `AddLinearConstraint` function, which can handle all three types of linear constraint. Compared to the generic `AddConstraint` function, `AddLinearConstraint` does more sanity will refuse to add the constraint if it is not linear.",
   "metadata": {
    "cell_id": "00012-f2b15474-dd6b-45b9-bb22-1175abbec136",
    "deepnote_cell_type": "markdown"
   }
  },
  {
   "cell_type": "code",
   "metadata": {
    "cell_id": "00013-1799c5b9-381e-477e-a49e-157af126baff",
    "deepnote_cell_type": "code"
   },
   "source": "prog = MathematicalProgram()\nx = prog.NewContinuousVariables(2, \"x\")\ny = prog.NewContinuousVariables(3, \"y\")\n\n# Call AddConstraint to add a bounding box constraint x[0] >= 1\nbounding_box1 = prog.AddConstraint(x[0] >= 1)\nprint(f\"number of bounding box constraint objects: {len(prog.bounding_box_constraints())}\")\n\n# Call AddLinearConstraint to add a bounding box constraint x[1] <= 2\nbounding_box2 = prog.AddLinearConstraint(x[1] <= 2)\nprint(f\"number of bounding box constraint objects: {len(prog.bounding_box_constraints())}\")\n\n# Call AddConstraint to add a linear equality constraint x[0] + y[1] == 3\nlinear_eq1 = prog.AddConstraint(x[0] + y[1] == 3.)\nprint(f\"number of linear equality constraint objects: {len(prog.linear_equality_constraints())}\")\n\n# Call AddLinearConstraint to add a linear equality constraint x[1] + 2 * y[2] == 1\nlinear_eq2 = prog.AddLinearConstraint(x[1] + 2 * y[2] == 1)\nprint(f\"number of linear equality constraint objects: {len(prog.linear_equality_constraints())}\")\n\n# Call AddConstraint to add a linear inequality constraint x[0] + 3*x[1] + 2*y[2] <= 4\nlinear_ineq1 = prog.AddConstraint(x[0] + 3*x[1] + 2*y[2] <= 4)\nprint(f\"number of linear inequality constraint objects: {len(prog.linear_constraints())}\")\n\n# Call AddLinearConstraint to add a linear inequality constraint x[1] + 4 * y[1] >= 2\nlinear_ineq2 = prog.AddLinearConstraint(x[1] + 4 * y[1] >= 2)\nprint(f\"number of linear inequality constraint objects: {len(prog.linear_constraints())}\")",
   "execution_count": null,
   "outputs": []
  },
  {
   "cell_type": "markdown",
   "source": "`AddLinearConstraint` will check if the constraint is actually linear, and throw an exception if the constraint is not linear.",
   "metadata": {
    "cell_id": "00014-39700a2d-5135-4cef-8a95-2ea0997c53ed",
    "deepnote_cell_type": "markdown"
   }
  },
  {
   "cell_type": "code",
   "metadata": {
    "cell_id": "00015-9c878a35-c42d-4d8e-9049-ea34d8d2a073",
    "deepnote_cell_type": "code"
   },
   "source": "# Add a nonlinear constraint square(x[0]) == 2 by calling AddLinearConstraint. This should\n# throw an exception\ntry:\n    prog.AddLinearConstraint(x[0] ** 2 == 2)\nexcept RuntimeError as err:\n    print(err.args)",
   "execution_count": null,
   "outputs": []
  },
  {
   "cell_type": "markdown",
   "source": "If the users know the coefficients of the constraint as a matrix, they could also call `AddLinearConstraint(A, lower, upper, x)` to add a constraint $lower \\le Ax \\le upper$. This version of the method does not construct any symbolic representations, and will be more efficient especially when `A` is very large.",
   "metadata": {
    "cell_id": "00016-04eb6437-597a-4b39-8b93-2e7c35988a8d",
    "deepnote_cell_type": "markdown"
   }
  },
  {
   "cell_type": "code",
   "metadata": {
    "cell_id": "00017-da7b5dad-df0f-490b-8afa-93ea918deed6",
    "deepnote_cell_type": "code"
   },
   "source": "# Add a linear constraint 2x[0] + 3x[1] <= 2, 1 <= 4x[1] + 5y[2] <= 3.\n# This is equivalent to lower <= A * [x;y[2]] <= upper with\n# lower = [-inf, 1], upper = [2, 3], A = [[2, 3, 0], [0, 4, 5]].\nlinear_constraint = prog.AddLinearConstraint(\n    A=[[2., 3., 0], [0., 4., 5.]],\n    lb=[-np.inf, 1],\n    ub=[2., 3.],\n    vars=np.hstack((x, y[2])))\nprint(linear_constraint)",
   "execution_count": null,
   "outputs": []
  },
  {
   "cell_type": "markdown",
   "source": "#### AddBoundingBoxConstraint\nIf your constraint is a bounding box constraint (i.e. $lower \\le x \\le upper$), apart from calling `AddConstraint` or `AddLinearConstraint`, you could also call `AddBoundingBoxConstraint(lower, upper, x)`, which  will be slightly faster than `AddConstraint` and `AddLinearConstraint`.",
   "metadata": {
    "cell_id": "00018-0238e731-9007-4899-816e-174a38ec6094",
    "deepnote_cell_type": "markdown"
   }
  },
  {
   "cell_type": "code",
   "metadata": {
    "cell_id": "00019-4628cb86-93b9-4120-ab4d-00f8f539fbb6",
    "deepnote_cell_type": "code"
   },
   "source": "# Add a bounding box constraint -1 <= x[0] <= 2, 3 <= x[1] <= 5\nbounding_box3 = prog.AddBoundingBoxConstraint([-1, 3], [2, 5], x)\nprint(bounding_box3)",
   "execution_count": null,
   "outputs": []
  },
  {
   "cell_type": "markdown",
   "source": "If the variables share the same lower or upper bound, you could use a scalar `lower` or `upper` value in `AddBoundingBoxConstraint`. For example",
   "metadata": {
    "cell_id": "00020-7c6d95ad-f86a-42ec-bfdc-2182120971de",
    "deepnote_cell_type": "markdown"
   }
  },
  {
   "cell_type": "code",
   "metadata": {
    "cell_id": "00021-acd0c3da-ff66-45fe-bcc1-d98989e06c38",
    "deepnote_cell_type": "code"
   },
   "source": "# Add a bounding box constraint 3 <= y[i] <= 5 for all i.\nbounding_box4 = prog.AddBoundingBoxConstraint(3, 5, y)\nprint(bounding_box4)",
   "execution_count": null,
   "outputs": []
  },
  {
   "cell_type": "markdown",
   "source": "#### AddLinearEqualityConstraint\nIf your constraint is a linear equality constraint (i.e. $ Ax = b$), apart from calling `AddConstraint` or `AddLinearConstraint`, you could also call `AddLinearEqualityConstraint` to be more specific (and slightly faster than `AddConstraint` and `AddLinearConstraint`).",
   "metadata": {
    "cell_id": "00022-c86a23af-8271-4005-b12f-50b584e3f479",
    "deepnote_cell_type": "markdown"
   }
  },
  {
   "cell_type": "code",
   "metadata": {
    "cell_id": "00023-9d6ffb43-6e7b-466e-adf0-3bed1e4f4c78",
    "deepnote_cell_type": "code"
   },
   "source": "# Add a linear equality constraint 4 * x[0] + 5 * x[1] == 1\nlinear_eq3 = prog.AddLinearEqualityConstraint(np.array([[4, 5]]), np.array([1]), x)\nprint(linear_eq3)",
   "execution_count": null,
   "outputs": []
  },
  {
   "cell_type": "markdown",
   "source": "### Solving Linear Program.\n\nOnce all the constraints and costs are added to the program, we can call `Solve` function to solve the program and call `GetSolution` to obtain the results.",
   "metadata": {
    "cell_id": "00024-326dbfa0-96d9-4783-b703-41be01b20934",
    "deepnote_cell_type": "markdown"
   }
  },
  {
   "cell_type": "code",
   "metadata": {
    "cell_id": "00025-e07d5d20-2179-4062-9404-e969943d1073",
    "deepnote_cell_type": "code"
   },
   "source": "# Solve an optimization program\n# min -3x[0] - x[1] - 5x[2] -x[3] + 2\n# s.t 3x[0] + x[1] + 2x[2] = 30\n#     2x[0] + x[1] + 3x[2] + x[3] >= 15\n#     2x[1] + 3x[3] <= 25\n#     -100 <= x[0] + 2x[2] <= 40\n#   x[0], x[1], x[2], x[3] >= 0, x[1] <= 10\nprog = MathematicalProgram()\n# Declare x as decision variables.\nx = prog.NewContinuousVariables(4)\n# Add linear costs. To show that calling AddLinearCosts results in the sum of each individual\n# cost, we add two costs -3x[0] - x[1] and -5x[2]-x[3]+2\nprog.AddLinearCost(-3*x[0] -x[1])\nprog.AddLinearCost(-5*x[2] - x[3] + 2)\n# Add linear equality constraint 3x[0] + x[1] + 2x[2] == 30\nprog.AddLinearConstraint(3*x[0] + x[1] + 2*x[2] == 30)\n# Add Linear inequality constraints\nprog.AddLinearConstraint(2*x[0] + x[1] + 3*x[2] + x[3] >= 15)\nprog.AddLinearConstraint(2*x[1] + 3*x[3] <= 25)\n# Add linear inequality constraint -100 <= x[0] + 2x[2] <= 40\nprog.AddLinearConstraint(A=[[1., 2.]], lb=[-100], ub=[40], vars=[x[0], x[2]])\nprog.AddBoundingBoxConstraint(0, np.inf, x)\nprog.AddLinearConstraint(x[1] <= 10)\n\n# Now solve the program.\nresult = Solve(prog)\nprint(f\"Is solved successfully: {result.is_success()}\")\nprint(f\"x optimal value: {result.GetSolution(x)}\")\nprint(f\"optimal cost: {result.get_optimal_cost()}\")",
   "execution_count": null,
   "outputs": []
  },
  {
   "cell_type": "markdown",
   "source": "<a style='text-decoration:none;line-height:16px;display:flex;color:#5B5B62;padding:10px;justify-content:end;' href='https://deepnote.com?utm_source=created-in-deepnote-cell&projectId=2b4fc509-aef2-417d-a40d-6071dfed9199' target=\"_blank\">\n<img alt='Created in deepnote.com' style='display:inline;max-height:16px;margin:0px;margin-right:7.5px;' src='data:image/svg+xml;base64,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' > </img>\nCreated in <span style='font-weight:600;margin-left:4px;'>Deepnote</span></a>",
   "metadata": {
    "tags": [],
    "created_in_deepnote_cell": true,
    "deepnote_cell_type": "markdown"
   }
  }
 ],
 "nbformat": 4,
 "nbformat_minor": 2,
 "metadata": {
  "kernelspec": {
   "display_name": "Python 3",
   "language": "python",
   "name": "python3"
  },
  "language_info": {
   "codemirror_mode": {
    "name": "ipython",
    "version": 3
   },
   "file_extension": ".py",
   "mimetype": "text/x-python",
   "name": "python",
   "nbconvert_exporter": "python",
   "pygments_lexer": "ipython3",
   "version": "3.6.9"
  },
  "deepnote_notebook_id": "fcbe937b-6363-4c62-bed5-dfdde9d43d14",
  "deepnote": {},
  "deepnote_execution_queue": []
 }
}