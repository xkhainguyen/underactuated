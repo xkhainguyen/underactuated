{
 "cells": [
  {
   "cell_type": "markdown",
   "source": "# Mathematical Program MultibodyPlant Tutorial\nFor instructions on how to run these tutorial notebooks, please see the [index](./index.ipynb).\n",
   "metadata": {
    "cell_id": "838c3697-0f10-4d28-bbe2-f591de6fa9fb",
    "deepnote_cell_type": "markdown"
   }
  },
  {
   "cell_type": "markdown",
   "source": "This shows examples of:\n* Creating a `MultibodyPlant` containing an IIWA arm\n* Solve a simple inverse kinematics problem by writing a custom evaluator\nfor `MathematicalProgram` that can handle both `float` and `AutoDiffXd`\ninputs\n* Using the custom evaluator in a constraint\n* Using the custom evaluator in a cost.\n\n***To be added***:\n* Using `pydrake.multibody.inverse_kinematics`.\n* Visualizing with Drake Visualizer.\n\n### Important Note\n\nPlease review the\n[API for `pydrake.multibody.inverse_kinematics`](\nhttps://drake.mit.edu/pydrake/pydrake.multibody.inverse_kinematics.html)\nbefore you delve too far into writing custom evaluators for use with\n`MultibodyPlant`. You may find the functionality you want there.",
   "metadata": {
    "cell_id": "00001-32881bdf-0512-4396-9f98-1e801b0c709c",
    "deepnote_cell_type": "markdown"
   }
  },
  {
   "cell_type": "markdown",
   "source": "## Inverse Kinematics Problem\n\nIn this tutorial, we will be solving a simple inverse kinematics problem to\nput Link 7's origin at a given distance from a target position. We will use\n`MathematicalProgram` to solve this problem in two different ways: first\nusing the evaluator as a constraint (with a minimum and maximum distance),\nand second using the evaluator as a cost (to get as close as possible).\n\nFor more information about `MathematicalProgram`, please see the\n[`MathematicalProgram` Tutorial](./mathematical_program.ipynb).",
   "metadata": {
    "cell_id": "00002-6039a46b-a5b5-4107-8bbf-0c0b3152a267",
    "deepnote_cell_type": "markdown"
   }
  },
  {
   "cell_type": "markdown",
   "source": "## Setup\n\nFirst, we will import the necessary modules and load a `MultibodyPlant`\ncontaining an IIWA.",
   "metadata": {
    "cell_id": "00003-c075b20c-ca94-48d4-b1ed-108303e604dd",
    "deepnote_cell_type": "markdown"
   }
  },
  {
   "cell_type": "code",
   "metadata": {
    "cell_id": "00004-9402a24d-09b7-41d3-a76b-e41eb6a2cbd2",
    "deepnote_cell_type": "code"
   },
   "source": "import numpy as np\n\nfrom pydrake.common import FindResourceOrThrow\nfrom pydrake.math import RigidTransform\nfrom pydrake.multibody.parsing import Parser\nfrom pydrake.systems.analysis import Simulator\nfrom pydrake.all import MultibodyPlant\n\nfrom pydrake.solvers import MathematicalProgram, Solve",
   "execution_count": null,
   "outputs": []
  },
  {
   "cell_type": "code",
   "metadata": {
    "cell_id": "00005-1eb3460d-1c5c-4758-8ab8-d6929e442444",
    "deepnote_cell_type": "code"
   },
   "source": "plant_f = MultibodyPlant(0.0)\niiwa_file = FindResourceOrThrow(\n   \"drake/manipulation/models/iiwa_description/sdf/\"\n   \"iiwa14_no_collision.sdf\")\n(iiwa,) = Parser(plant_f).AddModels(iiwa_file)\n\n# Define some short aliases for frames.\nW = plant_f.world_frame()\nL0 = plant_f.GetFrameByName(\"iiwa_link_0\", iiwa)\nL7 = plant_f.GetFrameByName(\"iiwa_link_7\", iiwa)\n\nplant_f.WeldFrames(W, L0)\nplant_f.Finalize()",
   "execution_count": null,
   "outputs": []
  },
  {
   "cell_type": "markdown",
   "source": "## Writing our Custom Evaluator\n\nOur evaluator is implemented using the custom evaluator\n`link_7_distance_to_target`, since its functionality is not already\nhandled by existing classes in the `inverse_kinematics` submodule.\n\nNote that in order to write a custom evaluator in Python, we must explicitly\ncheck for `float` and `AutoDiffXd` inputs, as you will see in the implementation\nof `link_7_distance_to_target`.",
   "metadata": {
    "cell_id": "00006-97e1f63b-8e98-4420-8bed-3f5398b53ff2",
    "deepnote_cell_type": "markdown"
   }
  },
  {
   "cell_type": "code",
   "metadata": {
    "cell_id": "00007-d0ea3ef1-b846-4ab5-bb2d-1f5676173089",
    "deepnote_cell_type": "code"
   },
   "source": "# Allocate float context to be used by evaluators.\ncontext_f = plant_f.CreateDefaultContext()\n# Create AutoDiffXd plant and corresponding context.\nplant_ad = plant_f.ToAutoDiffXd()\ncontext_ad = plant_ad.CreateDefaultContext()\n\ndef resolve_frame(plant, F):\n    \"\"\"Gets a frame from a plant whose scalar type may be different.\"\"\"\n    return plant.GetFrameByName(F.name(), F.model_instance())\n\n# Define target position.\np_WT = [0.1, 0.1, 0.6]\n\ndef link_7_distance_to_target(q):\n    \"\"\"Evaluates squared distance between L7 origin and target T.\"\"\"\n    # Choose plant and context based on dtype.\n    if q.dtype == float:\n        plant = plant_f\n        context = context_f\n    else:\n        # Assume AutoDiff.\n        plant = plant_ad\n        context = context_ad\n    # Do forward kinematics.\n    plant.SetPositions(context, iiwa, q)\n    X_WL7 = plant.CalcRelativeTransform(\n        context, resolve_frame(plant, W), resolve_frame(plant, L7))\n    p_TL7 = X_WL7.translation() - p_WT\n    return p_TL7.dot(p_TL7)\n\n# WARNING: If you return a scalar for a constraint, or a vector for\n# a cost, you may get the following cryptic error:\n# \"Unable to cast Python instance to C++ type\"\nlink_7_distance_to_target_vector = lambda q: [link_7_distance_to_target(q)]",
   "execution_count": null,
   "outputs": []
  },
  {
   "cell_type": "markdown",
   "source": "## Formulating the Optimization Problems",
   "metadata": {
    "cell_id": "00008-38d5261b-38a3-46f7-abb7-512576c8c6da",
    "deepnote_cell_type": "markdown"
   }
  },
  {
   "cell_type": "markdown",
   "source": "### Formluation 1: Using the Custom Evaluator in a Constraint\n\nWe will formulate and solve the problem with a basic cost and our custom\nevaluator in a constraint.\n\nNote that we use the vectorized version of the evaluator.",
   "metadata": {
    "cell_id": "00009-ec583e29-f17f-4cff-b582-fefdaf03df2e",
    "deepnote_cell_type": "markdown"
   }
  },
  {
   "cell_type": "code",
   "metadata": {
    "cell_id": "00010-79d410eb-2fab-47e2-b654-2151b0e08b45",
    "deepnote_cell_type": "code"
   },
   "source": "prog = MathematicalProgram()\n\nq = prog.NewContinuousVariables(plant_f.num_positions())\n# Define nominal configuration.\nq0 = np.zeros(plant_f.num_positions())\n\n# Add basic cost. (This will be parsed into a QuadraticCost.)\nprog.AddCost((q - q0).dot(q - q0))\n\n# Add constraint based on custom evaluator.\nprog.AddConstraint(\n    link_7_distance_to_target_vector,\n    lb=[0.1], ub=[0.2], vars=q)",
   "execution_count": null,
   "outputs": []
  },
  {
   "cell_type": "code",
   "metadata": {
    "cell_id": "00011-e898de12-0bc2-4ddf-a939-d58eadd03da5",
    "deepnote_cell_type": "code"
   },
   "source": "result = Solve(prog, initial_guess=q0)\n\nprint(f\"Success? {result.is_success()}\")\nprint(result.get_solution_result())\nq_sol = result.GetSolution(q)\nprint(q_sol)\n\nprint(f\"Initial distance: {link_7_distance_to_target(q0):.3f}\")\nprint(f\"Solution distance: {link_7_distance_to_target(q_sol):.3f}\")",
   "execution_count": null,
   "outputs": []
  },
  {
   "cell_type": "markdown",
   "source": "### Formulation 2: Using Custom Evaluator in a Cost\n\nWe will formulate and solve the problem, but this time we will use our custom\nevaluator in a cost.\n\nNote that we use the scalar version of the evaluator.",
   "metadata": {
    "cell_id": "00012-9347b630-41dc-4a73-9ef1-ff9dd4f943e1",
    "deepnote_cell_type": "markdown"
   }
  },
  {
   "cell_type": "code",
   "metadata": {
    "cell_id": "00013-19262c26-93f2-41c4-bed3-af069621366d",
    "deepnote_cell_type": "code"
   },
   "source": "prog = MathematicalProgram()\n\nq = prog.NewContinuousVariables(plant_f.num_positions())\n# Define nominal configuration.\nq0 = np.zeros(plant_f.num_positions())\n\n# Add custom cost.\nprog.AddCost(link_7_distance_to_target, vars=q)",
   "execution_count": null,
   "outputs": []
  },
  {
   "cell_type": "code",
   "metadata": {
    "cell_id": "00014-e23edba3-3b1c-4a32-8db3-1856ddbcb14c",
    "deepnote_cell_type": "code"
   },
   "source": "result = Solve(prog, initial_guess=q0)\n\nprint(f\"Success? {result.is_success()}\")\nprint(result.get_solution_result())\nq_sol = result.GetSolution(q)\nprint(q_sol)\n\nprint(f\"Initial distance: {link_7_distance_to_target(q0):.3f}\")\nprint(f\"Solution distance: {link_7_distance_to_target(q_sol):.3f}\")",
   "execution_count": null,
   "outputs": []
  },
  {
   "cell_type": "markdown",
   "source": "<a style='text-decoration:none;line-height:16px;display:flex;color:#5B5B62;padding:10px;justify-content:end;' href='https://deepnote.com?utm_source=created-in-deepnote-cell&projectId=2b4fc509-aef2-417d-a40d-6071dfed9199' target=\"_blank\">\n<img alt='Created in deepnote.com' style='display:inline;max-height:16px;margin:0px;margin-right:7.5px;' src='data:image/svg+xml;base64,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' > </img>\nCreated in <span style='font-weight:600;margin-left:4px;'>Deepnote</span></a>",
   "metadata": {
    "tags": [],
    "created_in_deepnote_cell": true,
    "deepnote_cell_type": "markdown"
   }
  }
 ],
 "nbformat": 4,
 "nbformat_minor": 2,
 "metadata": {
  "kernelspec": {
   "display_name": "Python 3",
   "language": "python",
   "name": "python3"
  },
  "language_info": {
   "codemirror_mode": {
    "name": "ipython",
    "version": 3
   },
   "file_extension": ".py",
   "mimetype": "text/x-python",
   "name": "python",
   "nbconvert_exporter": "python",
   "pygments_lexer": "ipython3",
   "version": "3.6.9"
  },
  "deepnote_notebook_id": "108a357e-7414-40b5-a338-8a2ee3fea262",
  "deepnote": {},
  "deepnote_execution_queue": []
 }
}