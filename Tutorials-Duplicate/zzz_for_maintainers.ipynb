{
 "cells": [
  {
   "cell_type": "markdown",
   "source": "This is a notebook **solely for use by Drake's release managers**.  Only run this notebook per the instructions at the [release playbook](https://drake.mit.edu/release_playbook.html), never at any other moment.  There are several steps of preparation that must be performed first, prior to running this notebook.",
   "metadata": {
    "tags": [],
    "cell_id": "00000-76aa9776-2bcc-4d22-9868-6b9f37a87c45",
    "deepnote_cell_type": "markdown",
    "deepnote_cell_height": 97.1875
   }
  },
  {
   "cell_type": "code",
   "metadata": {
    "cell_id": "05221a33440d400ba3d86013b69b7139",
    "tags": [],
    "deepnote_to_be_reexecuted": false,
    "source_hash": "2347baa6",
    "execution_start": 1671048535781,
    "execution_millis": 9,
    "deepnote_cell_type": "code",
    "deepnote_cell_height": 1341
   },
   "source": "# Compute the list of files that will be added and removed.\nfrom glob import glob\nfrom os.path import basename\n\ndef workspace_path(base):\n    return f\"/work/{base}\"\n\ndef archive_path(base):\n    return f\"/opt/drake/share/drake/tutorials/{base}\"\n\nreleased_paths = sorted(glob(archive_path(\"*.ipynb\")))\ncurrent_paths = sorted([x for x in glob(workspace_path(\"*.ipynb\")) if x not in [\n    \"/work/init.ipynb\",\n    \"/work/zzz_for_maintainers.ipynb\",\n]])\n\n# These all indicate relative paths.\nreleased = [basename(x) for x in released_paths]\ncurrent = [basename(x) for x in current_paths]\n\nrefreshed = [\n    name for name in current\n    if name in released\n]\nadded = [\n    name for name in released\n    if name not in current\n]\nremoved = [\n    name for name in current\n    if name not in released\n]\n\ndef print_list(heading, items):\n    print(heading)\n    if not items:\n        print(\" (None)\")\n    for item in items:\n        print(f\"- {item}\")\n    print()\n\nprint_list(\"Refreshed tutorials:\", refreshed)\nprint_list(\"Added tutorials:\", added)\nprint_list(\"Removed tutorials:\", removed)",
   "outputs": [
    {
     "name": "stdout",
     "text": "Refreshed tutorials:\n- authoring_multibody_simulation.ipynb\n- debug_mathematical_program.ipynb\n- dynamical_systems.ipynb\n- index.ipynb\n- licensed_solvers_deepnote.ipynb\n- linear_program.ipynb\n- mathematical_program.ipynb\n- mathematical_program_multibody_plant.ipynb\n- multibody_plant_autodiff_mass.ipynb\n- nonlinear_program.ipynb\n- pyplot_animation_multibody_plant.ipynb\n- quadratic_program.ipynb\n- rendering_multibody_plant.ipynb\n- solver_parameters.ipynb\n- sum_of_squares_optimization.ipynb\n- updating_costs_and_constraints.ipynb\n\nAdded tutorials:\n (None)\n\nRemoved tutorials:\n (None)\n\n",
     "output_type": "stream"
    }
   ],
   "execution_count": null
  },
  {
   "cell_type": "markdown",
   "source": "**Inspect the above list of added and removed files before proceeding!**",
   "metadata": {
    "cell_id": "dc1d1ccfa1784ff8aa22242adaa43cc5",
    "tags": [],
    "deepnote_cell_type": "markdown",
    "deepnote_cell_height": 52.390625
   }
  },
  {
   "cell_type": "code",
   "source": "import shutil\nyyyymmdd = open('/opt/drake/share/doc/drake/VERSION.TXT').read()[:8]\nprint(f\"Type 'yes' in the little box below to reset the tutorials notebooks to {yyyymmdd}, or anything else to cancel.\")\nresponse = input(\"Proceed\")\nprint(f\"The response was {repr(response)}.\")\nif response != \"yes\":\n    raise RuntimeError(\"Cancelled\")\n\nto_copy = refreshed + added\n\nfor base in to_copy:\n    print(f\"Updating {base}\")\n    shutil.copyfile(archive_path(base), workspace_path(base))\nfor base in removed:\n    print(f\"Removing {base}\")\n    os.remove(workspace_path(base))",
   "metadata": {
    "cell_id": "4740749052e94810ad8ea04cde291700",
    "tags": [],
    "deepnote_to_be_reexecuted": false,
    "source_hash": "751223e4",
    "execution_start": 1671048542959,
    "execution_millis": 3120,
    "owner_user_id": "479177fe-104e-4f2c-8abb-f97ea16961e1",
    "deepnote_cell_type": "code",
    "deepnote_cell_height": 480.1875
   },
   "outputs": [
    {
     "name": "stdout",
     "text": "Type 'yes' in the little box below to reset the tutorials notebooks to 20221116, or anything else to cancel.\nThe response was 'yes'.\nUpdating authoring_multibody_simulation.ipynb\nUpdating debug_mathematical_program.ipynb\nUpdating dynamical_systems.ipynb\nUpdating index.ipynb\nUpdating licensed_solvers_deepnote.ipynb\nUpdating linear_program.ipynb\nUpdating mathematical_program.ipynb\nUpdating mathematical_program_multibody_plant.ipynb\nUpdating multibody_plant_autodiff_mass.ipynb\nUpdating nonlinear_program.ipynb\nUpdating pyplot_animation_multibody_plant.ipynb\nUpdating quadratic_program.ipynb\nUpdating rendering_multibody_plant.ipynb\nUpdating solver_parameters.ipynb\nUpdating sum_of_squares_optimization.ipynb\nUpdating updating_costs_and_constraints.ipynb\n",
     "output_type": "stream"
    }
   ],
   "execution_count": null
  },
  {
   "cell_type": "code",
   "metadata": {
    "cell_id": "c06b1a72928a4126894614781695c802",
    "tags": [],
    "deepnote_to_be_reexecuted": true,
    "source_hash": "b623e53d",
    "execution_start": 1668788105099,
    "execution_millis": 2,
    "deepnote_cell_type": "code",
    "deepnote_cell_height": 76
   },
   "source": "",
   "execution_count": null,
   "outputs": []
  },
  {
   "cell_type": "markdown",
   "source": "<a style='text-decoration:none;line-height:16px;display:flex;color:#5B5B62;padding:10px;justify-content:end;' href='https://deepnote.com?utm_source=created-in-deepnote-cell&projectId=2b4fc509-aef2-417d-a40d-6071dfed9199' target=\"_blank\">\n<img alt='Created in deepnote.com' style='display:inline;max-height:16px;margin:0px;margin-right:7.5px;' src='data:image/svg+xml;base64,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' > </img>\nCreated in <span style='font-weight:600;margin-left:4px;'>Deepnote</span></a>",
   "metadata": {
    "tags": [],
    "created_in_deepnote_cell": true,
    "deepnote_cell_type": "markdown"
   }
  }
 ],
 "nbformat": 4,
 "nbformat_minor": 2,
 "metadata": {
  "orig_nbformat": 2,
  "deepnote": {
   "is_reactive": false
  },
  "deepnote_notebook_id": "e6378230-6f4c-4702-a7ed-d4033a6c4678",
  "deepnote_execution_queue": []
 }
}